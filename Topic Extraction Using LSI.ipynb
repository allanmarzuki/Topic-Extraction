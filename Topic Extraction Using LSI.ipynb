{
 "cells": [
  {
   "cell_type": "markdown",
   "metadata": {},
   "source": [
    "                            Lalu Achmad Wiraharlan - 5170411207"
   ]
  },
  {
   "cell_type": "code",
   "execution_count": 1,
   "metadata": {},
   "outputs": [],
   "source": [
    "teks = ['Human machine interface for ABC computer application', 'A survey of user opinion of computer system response time',\n",
    "        'The EPS user interface management system','System and human system engineering testing of EPS',\n",
    "        'Relation of user preceived response time ro error measurement','The generation of random, binary, ordered trees',\n",
    "       'The intersection graph of paths in trees','Graph minors IV: widths of trees and well-quasi-ordering',\n",
    "        'Graph minors: a survey'] #teks contoh di module percobaan pertama"
   ]
  },
  {
   "cell_type": "code",
   "execution_count": 8,
   "metadata": {},
   "outputs": [],
   "source": [
    "teks = ['Untuk merayakan berakhirnya lockdown, Olesia sang petualang memanjat tebing bersama teman-temannya agar bisa berfoto dengan latar belakang air terjun yang indah. Namun perayaan ini berujung petaka lantaran saat berfoto ia terpeleset di rerumputan dan jatuh dari ketinggian 115 kaki (35 meter). Olesia tewas seketika lalu teman-temannya menjerit ketakutan. Temannya langsung menelepon pihak berwenang, yang kemudian menemukan jasad Olesia di air dan mengidentifikasinya, sebelum membawanya ke kamar mayat Institut Kedokteran Forensik Antalya.',\n",
    "        'Jika negara Eropa bersatu, maka AS mempunyai keuntungan untuk menarik mereka dari Negeri \"Panda\", terutama di bidang teknologi yang merugikan mereka. \"Pemimpin dari Demokrat mungkin juga tidak peduli dengan komentar manis atau percakapan telepon personal seperti Trump,\" jelas Shi. Biden, yang merupakan wakil Barack Obama pada 2009-2017, berjanji untuk memulihkan relasi dunia dan sekutu yang tercerai berai saat Trump memimpin. Mantan Senator Delaware itu juga termasuk pengkritik Presiden Xi Jinping, di mana dia sempat menyebutnya \"pencuri\" Februari lalu. Meski tidak akan ada peningkatan, Shi memprediksi hubungan bilateral bakal terbih bisa diprediksi begitu Biden menjadi pemimpin. Dia menerangkan tim kebijakan luar negeri Demokrat jauh lebih berpengalaman dengan China, dan tentunya ttidak terlalu panas tensinya.',\n",
    "       'Video itu muncul setelah sebelumnya beredar foto, memperlihatkan Kim terbaring, di mana gambar itu diyakini diedit dari Kim Jong Il. \"Video itu jelas membuat bingung baik warga biasa maupun para petinggi dan pejabat ketika mereka melihat ini,\" kata seorang sumber. Meski akhirnya diangkat menjadi isu yang serius, sumber itu menerangkan bahwa mereka tidka berani membicarakannya secara terang-terangan. Gugus tugas yang dibentuk kemudianq menyelidiki dan mengawasi setiap jalir telepon atau percakapan ke luar negeri sejak isu tersebut beredar. \"Dengan semakin intensifnya investigasi, siapa pun yang melakukan pembicaraan ke China karena alasan bisnis mulai menurun,\" terangnya.',\n",
    "        'Komunitas intelijen \"akan memeriksa dengan teliti informasi yang muncul, dan intelijen akan menentukan apakah wabah itu dimulai melalui kontak dengan hewan yang terinfeksi atau apakah itu adalah hasil dari kecelakaan di sebuah laboratorium di Wuhan,\" kata Kantor Direktur Intelijen Nasional.',\n",
    "        'Situs itu memaparkan, kapal tersebut membuat pergerakan yang tidak biasa ketika Pyongyang menggelar tes senjata pada 14 April. Gambar itu muncul setelah lembaga think tank asal AS, 38North, menyatakan bahwa kereta yang diduga ditumpangi Kim juga berada di Wonsan. Baik pemerintah Korea Selatan dan AS menyatakan, kemungkinan Kim bersembunyi di sana karena salah satu penjaganya terpapar virus corona. Kedua negara juga mengaku skeptis dengan pemberitaan sejumlah media yang mengklaim Kim Jong Un berada dalam kondisi serius. Para pejabat menerangkan baik lokasi maupun kesehatan Kim dijaga ketat oleh Pyongyang, di mana memperoleh informasinya bakal sangat sulit.']\n",
    "#teks contoh di berita percobaan kedua"
   ]
  },
  {
   "cell_type": "code",
   "execution_count": 9,
   "metadata": {},
   "outputs": [],
   "source": [
    "import re\n",
    "cleanteks=[]\n",
    "for kalimat in teks :\n",
    "    kalimat = kalimat.lower()\n",
    "    kalimat = re.sub(\"[,:]\",\",\", kalimat)\n",
    "    cleanteks.append(kalimat.split())"
   ]
  },
  {
   "cell_type": "code",
   "execution_count": 4,
   "metadata": {},
   "outputs": [
    {
     "name": "stdout",
     "output_type": "stream",
     "text": [
      "[['human', 'machine', 'interface', 'for', 'abc', 'computer', 'application'], ['a', 'survey', 'of', 'user', 'opinion', 'of', 'computer', 'system', 'response', 'time'], ['the', 'eps', 'user', 'interface', 'management', 'system'], ['system', 'and', 'human', 'system', 'engineering', 'testing', 'of', 'eps'], ['relation', 'of', 'user', 'preceived', 'response', 'time', 'ro', 'error', 'measurement'], ['the', 'generation', 'of', 'random,', 'binary,', 'ordered', 'trees'], ['the', 'intersection', 'graph', 'of', 'paths', 'in', 'trees'], ['graph', 'minors', 'iv,', 'widths', 'of', 'trees', 'and', 'well-quasi-ordering'], ['graph', 'minors,', 'a', 'survey']]\n"
     ]
    }
   ],
   "source": [
    "print(cleanteks) #percobaan pertama"
   ]
  },
  {
   "cell_type": "code",
   "execution_count": 10,
   "metadata": {},
   "outputs": [
    {
     "name": "stdout",
     "output_type": "stream",
     "text": [
      "[['untuk', 'merayakan', 'berakhirnya', 'lockdown,', 'olesia', 'sang', 'petualang', 'memanjat', 'tebing', 'bersama', 'teman-temannya', 'agar', 'bisa', 'berfoto', 'dengan', 'latar', 'belakang', 'air', 'terjun', 'yang', 'indah.', 'namun', 'perayaan', 'ini', 'berujung', 'petaka', 'lantaran', 'saat', 'berfoto', 'ia', 'terpeleset', 'di', 'rerumputan', 'dan', 'jatuh', 'dari', 'ketinggian', '115', 'kaki', '(35', 'meter).', 'olesia', 'tewas', 'seketika', 'lalu', 'teman-temannya', 'menjerit', 'ketakutan.', 'temannya', 'langsung', 'menelepon', 'pihak', 'berwenang,', 'yang', 'kemudian', 'menemukan', 'jasad', 'olesia', 'di', 'air', 'dan', 'mengidentifikasinya,', 'sebelum', 'membawanya', 'ke', 'kamar', 'mayat', 'institut', 'kedokteran', 'forensik', 'antalya.'], ['jika', 'negara', 'eropa', 'bersatu,', 'maka', 'as', 'mempunyai', 'keuntungan', 'untuk', 'menarik', 'mereka', 'dari', 'negeri', '\"panda\",', 'terutama', 'di', 'bidang', 'teknologi', 'yang', 'merugikan', 'mereka.', '\"pemimpin', 'dari', 'demokrat', 'mungkin', 'juga', 'tidak', 'peduli', 'dengan', 'komentar', 'manis', 'atau', 'percakapan', 'telepon', 'personal', 'seperti', 'trump,\"', 'jelas', 'shi.', 'biden,', 'yang', 'merupakan', 'wakil', 'barack', 'obama', 'pada', '2009-2017,', 'berjanji', 'untuk', 'memulihkan', 'relasi', 'dunia', 'dan', 'sekutu', 'yang', 'tercerai', 'berai', 'saat', 'trump', 'memimpin.', 'mantan', 'senator', 'delaware', 'itu', 'juga', 'termasuk', 'pengkritik', 'presiden', 'xi', 'jinping,', 'di', 'mana', 'dia', 'sempat', 'menyebutnya', '\"pencuri\"', 'februari', 'lalu.', 'meski', 'tidak', 'akan', 'ada', 'peningkatan,', 'shi', 'memprediksi', 'hubungan', 'bilateral', 'bakal', 'terbih', 'bisa', 'diprediksi', 'begitu', 'biden', 'menjadi', 'pemimpin.', 'dia', 'menerangkan', 'tim', 'kebijakan', 'luar', 'negeri', 'demokrat', 'jauh', 'lebih', 'berpengalaman', 'dengan', 'china,', 'dan', 'tentunya', 'ttidak', 'terlalu', 'panas', 'tensinya.'], ['video', 'itu', 'muncul', 'setelah', 'sebelumnya', 'beredar', 'foto,', 'memperlihatkan', 'kim', 'terbaring,', 'di', 'mana', 'gambar', 'itu', 'diyakini', 'diedit', 'dari', 'kim', 'jong', 'il.', '\"video', 'itu', 'jelas', 'membuat', 'bingung', 'baik', 'warga', 'biasa', 'maupun', 'para', 'petinggi', 'dan', 'pejabat', 'ketika', 'mereka', 'melihat', 'ini,\"', 'kata', 'seorang', 'sumber.', 'meski', 'akhirnya', 'diangkat', 'menjadi', 'isu', 'yang', 'serius,', 'sumber', 'itu', 'menerangkan', 'bahwa', 'mereka', 'tidka', 'berani', 'membicarakannya', 'secara', 'terang-terangan.', 'gugus', 'tugas', 'yang', 'dibentuk', 'kemudianq', 'menyelidiki', 'dan', 'mengawasi', 'setiap', 'jalir', 'telepon', 'atau', 'percakapan', 'ke', 'luar', 'negeri', 'sejak', 'isu', 'tersebut', 'beredar.', '\"dengan', 'semakin', 'intensifnya', 'investigasi,', 'siapa', 'pun', 'yang', 'melakukan', 'pembicaraan', 'ke', 'china', 'karena', 'alasan', 'bisnis', 'mulai', 'menurun,\"', 'terangnya.'], ['komunitas', 'intelijen', '\"akan', 'memeriksa', 'dengan', 'teliti', 'informasi', 'yang', 'muncul,', 'dan', 'intelijen', 'akan', 'menentukan', 'apakah', 'wabah', 'itu', 'dimulai', 'melalui', 'kontak', 'dengan', 'hewan', 'yang', 'terinfeksi', 'atau', 'apakah', 'itu', 'adalah', 'hasil', 'dari', 'kecelakaan', 'di', 'sebuah', 'laboratorium', 'di', 'wuhan,\"', 'kata', 'kantor', 'direktur', 'intelijen', 'nasional.'], ['situs', 'itu', 'memaparkan,', 'kapal', 'tersebut', 'membuat', 'pergerakan', 'yang', 'tidak', 'biasa', 'ketika', 'pyongyang', 'menggelar', 'tes', 'senjata', 'pada', '14', 'april.', 'gambar', 'itu', 'muncul', 'setelah', 'lembaga', 'think', 'tank', 'asal', 'as,', '38north,', 'menyatakan', 'bahwa', 'kereta', 'yang', 'diduga', 'ditumpangi', 'kim', 'juga', 'berada', 'di', 'wonsan.', 'baik', 'pemerintah', 'korea', 'selatan', 'dan', 'as', 'menyatakan,', 'kemungkinan', 'kim', 'bersembunyi', 'di', 'sana', 'karena', 'salah', 'satu', 'penjaganya', 'terpapar', 'virus', 'corona.', 'kedua', 'negara', 'juga', 'mengaku', 'skeptis', 'dengan', 'pemberitaan', 'sejumlah', 'media', 'yang', 'mengklaim', 'kim', 'jong', 'un', 'berada', 'dalam', 'kondisi', 'serius.', 'para', 'pejabat', 'menerangkan', 'baik', 'lokasi', 'maupun', 'kesehatan', 'kim', 'dijaga', 'ketat', 'oleh', 'pyongyang,', 'di', 'mana', 'memperoleh', 'informasinya', 'bakal', 'sangat', 'sulit.']]\n"
     ]
    }
   ],
   "source": [
    "print(cleanteks) #percobaan kedua"
   ]
  },
  {
   "cell_type": "code",
   "execution_count": 5,
   "metadata": {},
   "outputs": [
    {
     "name": "stdout",
     "output_type": "stream",
     "text": [
      "Dictionary(40 unique tokens: ['abc', 'application', 'computer', 'for', 'human']...)\n"
     ]
    }
   ],
   "source": [
    "from gensim import corpora\n",
    "dictionary = corpora.Dictionary(cleanteks)\n",
    "print(dictionary) #percobaan pertama"
   ]
  },
  {
   "cell_type": "code",
   "execution_count": 11,
   "metadata": {},
   "outputs": [
    {
     "name": "stdout",
     "output_type": "stream",
     "text": [
      "Dictionary(303 unique tokens: ['(35', '115', 'agar', 'air', 'antalya.']...)\n"
     ]
    }
   ],
   "source": [
    "from gensim import corpora\n",
    "dictionary = corpora.Dictionary(cleanteks)\n",
    "print(dictionary) #percobaan kedua"
   ]
  },
  {
   "cell_type": "code",
   "execution_count": 6,
   "metadata": {},
   "outputs": [
    {
     "name": "stdout",
     "output_type": "stream",
     "text": [
      "[[(0, 1), (1, 1), (2, 1), (3, 1), (4, 1), (5, 1), (6, 1)], [(2, 1), (7, 1), (8, 2), (9, 1), (10, 1), (11, 1), (12, 1), (13, 1), (14, 1)], [(5, 1), (12, 1), (14, 1), (15, 1), (16, 1), (17, 1)], [(4, 1), (8, 1), (12, 2), (15, 1), (18, 1), (19, 1), (20, 1)], [(8, 1), (10, 1), (13, 1), (14, 1), (21, 1), (22, 1), (23, 1), (24, 1), (25, 1)], [(8, 1), (17, 1), (26, 1), (27, 1), (28, 1), (29, 1), (30, 1)], [(8, 1), (17, 1), (30, 1), (31, 1), (32, 1), (33, 1), (34, 1)], [(8, 1), (18, 1), (30, 1), (31, 1), (35, 1), (36, 1), (37, 1), (38, 1)], [(7, 1), (11, 1), (31, 1), (39, 1)]]\n"
     ]
    }
   ],
   "source": [
    "dtm = [dictionary.doc2bow(text) for text in cleanteks]\n",
    "print(dtm)  #percobaan pertama"
   ]
  },
  {
   "cell_type": "code",
   "execution_count": 12,
   "metadata": {},
   "outputs": [
    {
     "name": "stdout",
     "output_type": "stream",
     "text": [
      "[[(0, 1), (1, 1), (2, 1), (3, 2), (4, 1), (5, 1), (6, 1), (7, 2), (8, 1), (9, 1), (10, 1), (11, 1), (12, 2), (13, 1), (14, 1), (15, 2), (16, 1), (17, 1), (18, 1), (19, 1), (20, 1), (21, 1), (22, 1), (23, 1), (24, 1), (25, 1), (26, 1), (27, 1), (28, 1), (29, 1), (30, 1), (31, 1), (32, 1), (33, 1), (34, 1), (35, 1), (36, 1), (37, 1), (38, 1), (39, 1), (40, 1), (41, 1), (42, 1), (43, 1), (44, 1), (45, 3), (46, 1), (47, 1), (48, 1), (49, 1), (50, 1), (51, 1), (52, 1), (53, 1), (54, 1), (55, 1), (56, 2), (57, 1), (58, 1), (59, 1), (60, 1), (61, 1), (62, 2)], [(11, 1), (12, 2), (13, 2), (14, 2), (15, 2), (51, 1), (61, 2), (62, 3), (63, 1), (64, 1), (65, 1), (66, 1), (67, 1), (68, 1), (69, 1), (70, 1), (71, 1), (72, 1), (73, 1), (74, 1), (75, 1), (76, 1), (77, 1), (78, 1), (79, 1), (80, 1), (81, 1), (82, 1), (83, 1), (84, 2), (85, 2), (86, 1), (87, 1), (88, 1), (89, 1), (90, 1), (91, 1), (92, 1), (93, 1), (94, 1), (95, 1), (96, 2), (97, 1), (98, 1), (99, 1), (100, 1), (101, 1), (102, 1), (103, 1), (104, 1), (105, 1), (106, 1), (107, 1), (108, 1), (109, 1), (110, 1), (111, 1), (112, 1), (113, 1), (114, 1), (115, 1), (116, 1), (117, 1), (118, 1), (119, 1), (120, 1), (121, 1), (122, 2), (123, 1), (124, 1), (125, 1), (126, 1), (127, 1), (128, 1), (129, 1), (130, 1), (131, 1), (132, 1), (133, 1), (134, 1), (135, 1), (136, 1), (137, 1), (138, 1), (139, 1), (140, 1), (141, 1), (142, 1), (143, 1), (144, 1), (145, 1), (146, 1), (147, 1), (148, 1), (149, 2), (150, 1), (151, 1), (152, 1), (153, 1), (154, 1), (155, 1)], [(12, 2), (13, 1), (15, 1), (25, 2), (62, 3), (70, 1), (91, 4), (93, 1), (102, 1), (104, 1), (112, 1), (113, 1), (115, 2), (119, 1), (122, 1), (130, 1), (141, 1), (156, 1), (157, 1), (158, 1), (159, 1), (160, 1), (161, 1), (162, 1), (163, 1), (164, 1), (165, 1), (166, 1), (167, 1), (168, 1), (169, 1), (170, 1), (171, 1), (172, 1), (173, 1), (174, 1), (175, 1), (176, 1), (177, 1), (178, 1), (179, 1), (180, 2), (181, 1), (182, 1), (183, 1), (184, 1), (185, 1), (186, 1), (187, 2), (188, 1), (189, 1), (190, 1), (191, 1), (192, 1), (193, 1), (194, 1), (195, 1), (196, 1), (197, 1), (198, 1), (199, 1), (200, 1), (201, 1), (202, 1), (203, 1), (204, 1), (205, 1), (206, 1), (207, 1), (208, 1), (209, 1), (210, 1), (211, 1), (212, 1), (213, 1), (214, 1), (215, 1), (216, 1), (217, 1), (218, 1), (219, 1), (220, 1), (221, 1), (222, 1)], [(12, 1), (13, 1), (14, 2), (15, 2), (62, 2), (68, 1), (70, 1), (91, 2), (184, 1), (223, 1), (224, 1), (225, 2), (226, 1), (227, 1), (228, 1), (229, 1), (230, 1), (231, 3), (232, 1), (233, 1), (234, 1), (235, 1), (236, 1), (237, 1), (238, 1), (239, 1), (240, 1), (241, 1), (242, 1), (243, 1), (244, 1), (245, 1), (246, 1)], [(12, 1), (14, 1), (15, 3), (62, 3), (69, 1), (71, 1), (91, 2), (96, 2), (104, 1), (112, 1), (121, 1), (124, 1), (149, 1), (160, 1), (161, 2), (165, 1), (174, 1), (182, 1), (183, 1), (186, 1), (187, 4), (188, 1), (192, 1), (198, 1), (199, 1), (200, 1), (210, 1), (218, 1), (247, 1), (248, 1), (249, 1), (250, 1), (251, 1), (252, 2), (253, 1), (254, 1), (255, 1), (256, 1), (257, 1), (258, 1), (259, 1), (260, 1), (261, 1), (262, 1), (263, 1), (264, 1), (265, 1), (266, 1), (267, 1), (268, 1), (269, 1), (270, 1), (271, 1), (272, 1), (273, 1), (274, 1), (275, 1), (276, 1), (277, 1), (278, 1), (279, 1), (280, 1), (281, 1), (282, 1), (283, 1), (284, 1), (285, 1), (286, 1), (287, 1), (288, 1), (289, 1), (290, 1), (291, 1), (292, 1), (293, 1), (294, 1), (295, 1), (296, 1), (297, 1), (298, 1), (299, 1), (300, 1), (301, 1), (302, 1)]]\n"
     ]
    }
   ],
   "source": [
    "dtm = [dictionary.doc2bow(text) for text in cleanteks]\n",
    "print(dtm)  #percobaan kedua"
   ]
  },
  {
   "cell_type": "code",
   "execution_count": 7,
   "metadata": {},
   "outputs": [
    {
     "name": "stdout",
     "output_type": "stream",
     "text": [
      "[(0, '0.619*\"of\" + 0.364*\"system\" + 0.264*\"user\"'), (1, '0.460*\"trees\" + 0.351*\"graph\" + -0.277*\"system\"')]\n"
     ]
    }
   ],
   "source": [
    "from gensim.models.lsimodel import LsiModel\n",
    "lsimodel = LsiModel(dtm, num_topics=2, id2word=dictionary)\n",
    "print(lsimodel.show_topics(num_words=3)) #percobaan pertama"
   ]
  },
  {
   "cell_type": "code",
   "execution_count": 13,
   "metadata": {},
   "outputs": [
    {
     "name": "stdout",
     "output_type": "stream",
     "text": [
      "[(0, '0.392*\"yang\" + 0.284*\"itu\" + 0.283*\"di\"'), (1, '0.267*\"kim\" + 0.168*\"itu\" + -0.165*\"untuk\"')]\n"
     ]
    }
   ],
   "source": [
    "from gensim.models.lsimodel import LsiModel\n",
    "lsimodel = LsiModel(dtm, num_topics=2, id2word=dictionary)\n",
    "print(lsimodel.show_topics(num_words=3)) #percobaan kedua"
   ]
  },
  {
   "cell_type": "markdown",
   "metadata": {},
   "source": [
    "Pada percobaan pertama yakni melakukan ekstraksi topik sesuai dengan contoh yang ada didalam modul. Ddidaptkan hasil dengan topik pada sel yang ada di line ke-7."
   ]
  },
  {
   "cell_type": "markdown",
   "metadata": {},
   "source": [
    "Pada percobaan pertama yakni melakukan ekstraksi topik sesuai dengan contoh yang ada didalam modul. Ddidaptkan hasil dengan topik pada sel yang ada di line ke-13."
   ]
  }
 ],
 "metadata": {
  "kernelspec": {
   "display_name": "Python 3",
   "language": "python",
   "name": "python3"
  },
  "language_info": {
   "codemirror_mode": {
    "name": "ipython",
    "version": 3
   },
   "file_extension": ".py",
   "mimetype": "text/x-python",
   "name": "python",
   "nbconvert_exporter": "python",
   "pygments_lexer": "ipython3",
   "version": "3.7.3"
  }
 },
 "nbformat": 4,
 "nbformat_minor": 4
}
